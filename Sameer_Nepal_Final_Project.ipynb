{
 "cells": [
  {
   "cell_type": "markdown",
   "id": "a9b19722",
   "metadata": {},
   "source": [
    "# World Military Strength Ranking Data"
   ]
  },
  {
   "cell_type": "markdown",
   "id": "aa19e85c",
   "metadata": {},
   "source": [
    "Include a histogram of each of the 5 variables – in your summary and analysis, identify any outliers and explain the reasoning for them being outliers and how you believe they should be handled."
   ]
  },
  {
   "cell_type": "code",
   "execution_count": 63,
   "id": "2424ac1c",
   "metadata": {},
   "outputs": [],
   "source": [
    "import matplotlib.pyplot as plt\n",
    "import pandas as pd\n",
    "import numpy as np\n",
    "from __future__ import print_function, division\n",
    "import thinkstats2\n",
    "import thinkplot\n",
    "import matplotlib.pyplot as plt\n",
    "import pandas as pd\n",
    "import scipy.stats\n",
    "import numpy as np"
   ]
  },
  {
   "cell_type": "markdown",
   "id": "e6e79b2c",
   "metadata": {},
   "source": [
    "### Importing the Data"
   ]
  },
  {
   "cell_type": "code",
   "execution_count": 64,
   "id": "c0a2300a",
   "metadata": {},
   "outputs": [],
   "source": [
    "df = pd.read_csv('Military_DataSet.csv')"
   ]
  },
  {
   "cell_type": "code",
   "execution_count": 65,
   "id": "d1aa4a07",
   "metadata": {},
   "outputs": [
    {
     "name": "stdout",
     "output_type": "stream",
     "text": [
      "<class 'pandas.core.frame.DataFrame'>\n",
      "RangeIndex: 133 entries, 0 to 132\n",
      "Data columns (total 8 columns):\n",
      " #   Column                    Non-Null Count  Dtype \n",
      "---  ------                    --------------  ----- \n",
      " 0   Country                   133 non-null    object\n",
      " 1   Rank                      133 non-null    int64 \n",
      " 2   Total_Military_Personnel  133 non-null    int64 \n",
      " 3   Total_Aircraft_Strength   133 non-null    int64 \n",
      " 4   Total_Naval_Assets        133 non-null    int64 \n",
      " 5   Submarines                133 non-null    int64 \n",
      " 6   Defense_Budget            133 non-null    int64 \n",
      " 7   Rocket_Projectors         133 non-null    int64 \n",
      "dtypes: int64(7), object(1)\n",
      "memory usage: 8.4+ KB\n",
      "None\n"
     ]
    }
   ],
   "source": [
    "print(df.info())"
   ]
  },
  {
   "cell_type": "markdown",
   "id": "24b8df90",
   "metadata": {},
   "source": [
    "### Histograms of variables"
   ]
  },
  {
   "cell_type": "code",
   "execution_count": 66,
   "id": "27534554",
   "metadata": {},
   "outputs": [
    {
     "data": {
      "image/png": "[encoded data removed]",
      "text/plain": [
       "<Figure size 432x288 with 1 Axes>"
      ]
     },
     "metadata": {
      "needs_background": "light"
     },
     "output_type": "display_data"
    }
   ],
   "source": [
    "# Plotting histogram of 'Total Military Personnel' variable\n",
    "Total_Military_Personnel = df['Total_Military_Personnel']\n",
    "plt.hist(Total_Military_Personnel)\n",
    "plt.xlabel('Total Military Personnel')\n",
    "plt.ylabel('Frequency')\n",
    "plt.title('Total Military Personnel')\n",
    "plt.show()"
   ]
  },
  {
   "cell_type": "code",
   "execution_count": 67,
   "id": "52811b59",
   "metadata": {},
   "outputs": [
    {
     "name": "stdout",
     "output_type": "stream",
     "text": [
      "Mean: 449237.4210526316\n",
      "Mode: [15500]\n",
      "Variance: 1124107641813.8967\n",
      "Standard Deviation: 1060239.42664565\n"
     ]
    }
   ],
   "source": [
    "# Descriptive statistics - Total_Military_Personnel\n",
    "print('Mean:', df.Total_Military_Personnel.mean())\n",
    "print('Mode:', df.Total_Military_Personnel.mode().values)\n",
    "print('Variance:', df.Total_Military_Personnel.var())\n",
    "print('Standard Deviation:', df.Total_Military_Personnel.std())"
   ]
  },
  {
   "cell_type": "code",
   "execution_count": 68,
   "id": "0d21f8d7",
   "metadata": {},
   "outputs": [
    {
     "data": {
      "image/png": "[encoded data removed]",
      "text/plain": [
       "<Figure size 432x288 with 1 Axes>"
      ]
     },
     "metadata": {
      "needs_background": "light"
     },
     "output_type": "display_data"
    }
   ],
   "source": [
    "# Plotting histogram of 'Total_Aircraft_Strength' variable\n",
    "Total_Aircraft_Strength = df['Total_Aircraft_Strength']\n",
    "plt.hist(Total_Aircraft_Strength)\n",
    "plt.xlabel('Total Aircraft Strength')\n",
    "plt.ylabel('Frequency')\n",
    "plt.title('Total Aircraft Strength')\n",
    "plt.show()"
   ]
  },
  {
   "cell_type": "code",
   "execution_count": 69,
   "id": "e134c987",
   "metadata": {},
   "outputs": [
    {
     "name": "stdout",
     "output_type": "stream",
     "text": [
      "Mean: 395.42857142857144\n",
      "Mode: [25]\n",
      "Variance: 1633522.6709956722\n",
      "Standard Deviation: 1278.0933733478444\n"
     ]
    }
   ],
   "source": [
    "# Descriptive statistics - Total_Aircraft_Strength\n",
    "print('Mean:', df.Total_Aircraft_Strength.mean())\n",
    "print('Mode:', df.Total_Aircraft_Strength.mode().values)\n",
    "print('Variance:', df.Total_Aircraft_Strength.var())\n",
    "print('Standard Deviation:', df.Total_Aircraft_Strength.std())"
   ]
  },
  {
   "cell_type": "code",
   "execution_count": 70,
   "id": "1a90232b",
   "metadata": {},
   "outputs": [
    {
     "data": {
      "image/png": "[encoded data removed]",
      "text/plain": [
       "<Figure size 432x288 with 1 Axes>"
      ]
     },
     "metadata": {
      "needs_background": "light"
     },
     "output_type": "display_data"
    }
   ],
   "source": [
    "# Plotting histogram of 'Total_Naval_Assets' variable\n",
    "Total_Naval_Assets = df['Total_Naval_Assets']\n",
    "plt.hist(Total_Naval_Assets)\n",
    "plt.xlabel('Total Naval Assets')\n",
    "plt.ylabel('Frequency')\n",
    "plt.title('Total Naval Assets')\n",
    "plt.show()"
   ]
  },
  {
   "cell_type": "code",
   "execution_count": 71,
   "id": "c11f2d22",
   "metadata": {},
   "outputs": [
    {
     "name": "stdout",
     "output_type": "stream",
     "text": [
      "Mean: 69.54135338345864\n",
      "Mode: [0]\n",
      "Variance: 15758.73501936661\n",
      "Standard Deviation: 125.53380030639799\n"
     ]
    }
   ],
   "source": [
    "# Descriptive statistics - Total_Naval_Assets\n",
    "print('Mean:', df.Total_Naval_Assets.mean())\n",
    "print('Mode:', df.Total_Naval_Assets.mode().values)\n",
    "print('Variance:', df.Total_Naval_Assets.var())\n",
    "print('Standard Deviation:', df.Total_Naval_Assets.std())"
   ]
  },
  {
   "cell_type": "code",
   "execution_count": 72,
   "id": "63c1aa91",
   "metadata": {},
   "outputs": [
    {
     "data": {
      "image/png": "[encoded data removed]",
      "text/plain": [
       "<Figure size 432x288 with 1 Axes>"
      ]
     },
     "metadata": {
      "needs_background": "light"
     },
     "output_type": "display_data"
    }
   ],
   "source": [
    "# Plotting histogram of 'Defense_Budget' variable\n",
    "Defense_Budget = df['Defense_Budget']\n",
    "plt.hist(Defense_Budget)\n",
    "plt.xlabel('Defense Budget')\n",
    "plt.ylabel('Frequency')\n",
    "plt.title('Defense Budget')\n",
    "plt.show()"
   ]
  },
  {
   "cell_type": "code",
   "execution_count": 73,
   "id": "7ad8b81f",
   "metadata": {},
   "outputs": [
    {
     "name": "stdout",
     "output_type": "stream",
     "text": [
      "Mean: 11553.827067669174\n",
      "Mode: [ 120 7000]\n",
      "Variance: 2843346736.5228977\n",
      "Standard Deviation: 53323.04132851856\n"
     ]
    }
   ],
   "source": [
    "# Descriptive statistics - Defense_Budget\n",
    "print('Mean:', df.Defense_Budget.mean())\n",
    "print('Mode:', df.Defense_Budget.mode().values)\n",
    "print('Variance:', df.Defense_Budget.var())\n",
    "print('Standard Deviation:', df.Defense_Budget.std())"
   ]
  },
  {
   "cell_type": "code",
   "execution_count": 74,
   "id": "caec2e63",
   "metadata": {},
   "outputs": [
    {
     "data": {
      "image/png": "[encoded data removed]",
      "text/plain": [
       "<Figure size 432x288 with 1 Axes>"
      ]
     },
     "metadata": {
      "needs_background": "light"
     },
     "output_type": "display_data"
    }
   ],
   "source": [
    "# Plotting histogram of 'Submarines' variable\n",
    "Submarines = df['Submarines']\n",
    "plt.hist(Submarines)\n",
    "plt.xlabel('Submarines')\n",
    "plt.ylabel('Frequency')\n",
    "plt.title('Submarines')\n",
    "plt.show()"
   ]
  },
  {
   "cell_type": "code",
   "execution_count": 75,
   "id": "3fc10486",
   "metadata": {},
   "outputs": [
    {
     "name": "stdout",
     "output_type": "stream",
     "text": [
      "Mean: 4.030075187969925\n",
      "Mode: [0]\n",
      "Variance: 152.90817953975872\n",
      "Standard Deviation: 12.365604697699126\n"
     ]
    }
   ],
   "source": [
    "# Descriptive statistics - Submarines\n",
    "print('Mean:', df.Submarines.mean())\n",
    "print('Mode:', df.Submarines.mode().values)\n",
    "print('Variance:', df.Submarines.var())\n",
    "print('Standard Deviation:', df.Submarines.std())"
   ]
  },
  {
   "cell_type": "markdown",
   "id": "2df5f9b9",
   "metadata": {},
   "source": [
    "## PMF"
   ]
  },
  {
   "cell_type": "code",
   "execution_count": 76,
   "id": "4ab1ae53",
   "metadata": {},
   "outputs": [
    {
     "data": {
      "image/png": "[encoded data removed]",
      "text/plain": [
       "<Figure size 432x288 with 1 Axes>"
      ]
     },
     "metadata": {
      "needs_background": "light"
     },
     "output_type": "display_data"
    }
   ],
   "source": [
    "hist = thinkstats2.Hist(Total_Military_Personnel, label='Total Military Personnel')\n",
    "thinkplot.Hist(hist)\n",
    "thinkplot.Config(xlabel='Total Military Personnel', ylabel='Count')"
   ]
  },
  {
   "cell_type": "code",
   "execution_count": 77,
   "id": "227d5b4f",
   "metadata": {},
   "outputs": [],
   "source": [
    "n = hist.Total()\n",
    "pmf = hist.Copy()\n",
    "for x, freq in hist.Items():\n",
    "    pmf[x] = freq / n\n"
   ]
  },
  {
   "cell_type": "code",
   "execution_count": 78,
   "id": "68f5b133",
   "metadata": {},
   "outputs": [
    {
     "data": {
      "image/png": "[encoded data removed]",
      "text/plain": [
       "<Figure size 432x288 with 1 Axes>"
      ]
     },
     "metadata": {
      "needs_background": "light"
     },
     "output_type": "display_data"
    }
   ],
   "source": [
    "thinkplot.Hist(pmf)\n",
    "thinkplot.Config(xlabel='Total Military Personnel', ylabel='PMF')"
   ]
  },
  {
   "cell_type": "code",
   "execution_count": 79,
   "id": "ba6614ac",
   "metadata": {
    "scrolled": true
   },
   "outputs": [
    {
     "data": {
      "image/png": "[encoded data removed]",
      "text/plain": [
       "<Figure size 432x288 with 1 Axes>"
      ]
     },
     "metadata": {
      "needs_background": "light"
     },
     "output_type": "display_data"
    }
   ],
   "source": [
    "thinkplot.Pmf(pmf)\n",
    "thinkplot.Config(xlabel='Total Military Personnel', ylabel='Pmf')\n"
   ]
  },
  {
   "cell_type": "markdown",
   "id": "ef057ec3",
   "metadata": {},
   "source": [
    "This PMF is for the number of military personnel of the country. Looking at the PMF we see that the there is more chance of seeing that most of the country has the total military which less than 0.5 million. There is more number of country that has less number of military than the country that have high number of military personnel."
   ]
  },
  {
   "cell_type": "markdown",
   "id": "0ed2b0fc",
   "metadata": {},
   "source": [
    "## CDF"
   ]
  },
  {
   "cell_type": "code",
   "execution_count": 80,
   "id": "9deff58d",
   "metadata": {},
   "outputs": [
    {
     "data": {
      "image/png": "[encoded data removed]",
      "text/plain": [
       "<Figure size 432x288 with 1 Axes>"
      ]
     },
     "metadata": {
      "needs_background": "light"
     },
     "output_type": "display_data"
    }
   ],
   "source": [
    "# Plotting CDF of Total_Military_Personnel\n",
    "personnel_cdf = thinkstats2.Cdf(df.Total_Military_Personnel, label='Total Military Personnel')\n",
    "thinkplot.Cdf(personnel_cdf)\n",
    "thinkplot.Config(xlabel='Total Military Personnel', ylabel='CDF', loc='upper left')"
   ]
  },
  {
   "cell_type": "markdown",
   "id": "0620cdbf",
   "metadata": {},
   "source": [
    "The CDF for the Total_Military_variable shows that the most common number is around the left side of the graph. Most country has the value less than 0.25 million so I would say the common number is 0.25 million. The highest value is around 4-5 million. "
   ]
  },
  {
   "cell_type": "markdown",
   "id": "6d146d3f",
   "metadata": {},
   "source": [
    "## Analytical Distribution"
   ]
  },
  {
   "cell_type": "markdown",
   "id": "78e147cb",
   "metadata": {},
   "source": [
    "#### 1. Normal Distribution"
   ]
  },
  {
   "cell_type": "code",
   "execution_count": 81,
   "id": "e97f817e",
   "metadata": {},
   "outputs": [
    {
     "name": "stdout",
     "output_type": "stream",
     "text": [
      "Mean: 449237.4210526316\n",
      "Var: 1115655704657.4016\n",
      "Sigma: 1056246.043617396\n"
     ]
    },
    {
     "data": {
      "image/png": "[encoded data removed]",
      "text/plain": [
       "<Figure size 432x288 with 1 Axes>"
      ]
     },
     "metadata": {
      "needs_background": "light"
     },
     "output_type": "display_data"
    }
   ],
   "source": [
    "Personnel = df.Total_Military_Personnel\n",
    "\n",
    "# Estimating parameters\n",
    "mu, var = thinkstats2.MeanVar(Personnel)\n",
    "print('Mean:', mu)\n",
    "print('Var:', var)\n",
    "    \n",
    "# Plotting the model\n",
    "sigma = np.sqrt(var)\n",
    "print('Sigma:', sigma)\n",
    "xs, ps = thinkstats2.RenderNormalCdf(mu, sigma, low=3000, high=6445000)\n",
    "\n",
    "thinkplot.Plot(xs, ps, label='model', color='0.6')\n",
    "\n",
    "# Plotting the data\n",
    "cdf = thinkstats2.Cdf(Total_Military_Personnel, label='Total Military Personnel')\n",
    "\n",
    "thinkplot.PrePlot(1)\n",
    "thinkplot.Cdf(cdf) \n",
    "thinkplot.Config(title='Total Military Personnel',\n",
    "                 xlabel='Total Military Personnel',\n",
    "                 ylabel='CDF')"
   ]
  },
  {
   "cell_type": "markdown",
   "id": "20fb4126",
   "metadata": {},
   "source": [
    "The curve for the total military personnel deviates from the expected model because most of our data are concentrated in the left and there are very few countries in the right. Since we have very few record in the right the model and the actual curve are not lining together. "
   ]
  },
  {
   "cell_type": "markdown",
   "id": "a58b9a58",
   "metadata": {},
   "source": [
    "#### 2. Normal Probability Plot"
   ]
  },
  {
   "cell_type": "code",
   "execution_count": 82,
   "id": "a579b487",
   "metadata": {},
   "outputs": [
    {
     "data": {
      "image/png": "[encoded data removed]",
      "text/plain": [
       "<Figure size 432x288 with 1 Axes>"
      ]
     },
     "metadata": {
      "needs_background": "light"
     },
     "output_type": "display_data"
    }
   ],
   "source": [
    "mean, var = thinkstats2.MeanVar(Personnel)\n",
    "std = np.sqrt(var)\n",
    "\n",
    "xs = [-3, 3]\n",
    "fxs, fys = thinkstats2.FitLine(xs, mean, std)\n",
    "thinkplot.Plot(fxs, fys, linewidth=4, color='0.8')\n",
    "\n",
    "xs, ys = thinkstats2.NormalProbability(Personnel)\n",
    "thinkplot.Plot(xs, ys, label='Total Military Personnel')\n",
    "\n",
    "thinkplot.Config(title='Normal Probability Plot',\n",
    "                 xlabel='Standard deviations from mean',\n",
    "                 ylabel='Total Military Personnel')"
   ]
  },
  {
   "cell_type": "markdown",
   "id": "7a0748cb",
   "metadata": {},
   "source": [
    "The normality probability plot shows us that the data lacks the normality where the tails are deviated very much from the model and the curve is not linear. "
   ]
  },
  {
   "cell_type": "markdown",
   "id": "0fe14133",
   "metadata": {},
   "source": [
    "## Scatterplots"
   ]
  },
  {
   "cell_type": "markdown",
   "id": "58d3438b",
   "metadata": {},
   "source": [
    "#### Total Military Personnel Vs Defense Budget"
   ]
  },
  {
   "cell_type": "code",
   "execution_count": 83,
   "id": "e87f384a",
   "metadata": {},
   "outputs": [
    {
     "data": {
      "image/png": "[encoded data removed]",
      "text/plain": [
       "<Figure size 432x288 with 1 Axes>"
      ]
     },
     "metadata": {
      "needs_background": "light"
     },
     "output_type": "display_data"
    },
    {
     "data": {
      "text/plain": [
       "<Figure size 576x432 with 0 Axes>"
      ]
     },
     "metadata": {},
     "output_type": "display_data"
    }
   ],
   "source": [
    "thinkplot.Scatter(df.Total_Military_Personnel, df.Defense_Budget, alpha=0.5)\n",
    "thinkplot.Config(xlabel='Total Military Personnel',\n",
    "                 ylabel='Defense Budget',\n",
    "                 legend=False)\n",
    "\n",
    "thinkplot.show()"
   ]
  },
  {
   "cell_type": "markdown",
   "id": "977c82f0",
   "metadata": {},
   "source": [
    "#### Total Naval Assets Vs Total Aircraft Strength"
   ]
  },
  {
   "cell_type": "code",
   "execution_count": 84,
   "id": "ac474185",
   "metadata": {},
   "outputs": [
    {
     "data": {
      "image/png": "[encoded data removed]",
      "text/plain": [
       "<Figure size 432x288 with 1 Axes>"
      ]
     },
     "metadata": {
      "needs_background": "light"
     },
     "output_type": "display_data"
    },
    {
     "data": {
      "text/plain": [
       "<Figure size 576x432 with 0 Axes>"
      ]
     },
     "metadata": {},
     "output_type": "display_data"
    }
   ],
   "source": [
    "thinkplot.Scatter(df.Total_Naval_Assets, df.Total_Aircraft_Strength, alpha=0.5)\n",
    "thinkplot.Config(xlabel='Total Naval Assets',\n",
    "                 ylabel='Total Aircraft Strength',\n",
    "                 axis=[0, 1000, 0, 14000],\n",
    "                 legend=False)\n",
    "\n",
    "thinkplot.show()"
   ]
  },
  {
   "cell_type": "raw",
   "id": "75e980f4",
   "metadata": {},
   "source": [
    "The scatter plot shows that there are strong correlation between the Total Military Personnel Vs Defense Budget and also between Total Naval Assets Vs Total Aircraft Strength. The data is concentrated in left which makes it little hard to see all the points but we see there is some correlation between the selected variables."
   ]
  },
  {
   "cell_type": "markdown",
   "id": "225316dd",
   "metadata": {},
   "source": [
    "#### Covariance"
   ]
  },
  {
   "cell_type": "code",
   "execution_count": 85,
   "id": "65472e2b",
   "metadata": {},
   "outputs": [],
   "source": [
    "def Cov(xs, ys, meanx=None, meany=None):\n",
    "    xs = np.asarray(xs)\n",
    "    ys = np.asarray(ys)\n",
    "\n",
    "    if meanx is None:\n",
    "        meanx = np.mean(xs)\n",
    "    if meany is None:\n",
    "        meany = np.mean(ys)\n",
    "\n",
    "    cov = np.dot(xs-meanx, ys-meany) / len(xs)\n",
    "    return cov"
   ]
  },
  {
   "cell_type": "code",
   "execution_count": 86,
   "id": "f6a77b72",
   "metadata": {},
   "outputs": [
    {
     "data": {
      "text/plain": [
       "16825070335.208147"
      ]
     },
     "execution_count": 86,
     "metadata": {},
     "output_type": "execute_result"
    }
   ],
   "source": [
    "# Defense_Budget vs Total_Military_Personnel covariance\n",
    "Cov(Defense_Budget, Total_Military_Personnel )"
   ]
  },
  {
   "cell_type": "code",
   "execution_count": 87,
   "id": "f2395442",
   "metadata": {},
   "outputs": [
    {
     "data": {
      "text/plain": [
       "75930.24167561764"
      ]
     },
     "execution_count": 87,
     "metadata": {},
     "output_type": "execute_result"
    }
   ],
   "source": [
    " # Total_Naval_Assets Vs Total_Aircraft_Strength covariance\n",
    "Cov(Total_Naval_Assets, Total_Aircraft_Strength)"
   ]
  },
  {
   "cell_type": "markdown",
   "id": "587f6a33",
   "metadata": {},
   "source": [
    "#### Pearson's Correlation"
   ]
  },
  {
   "cell_type": "code",
   "execution_count": 88,
   "id": "53a63ed8",
   "metadata": {},
   "outputs": [],
   "source": [
    "def Corr(xs, ys):\n",
    "    xs = np.asarray(xs)\n",
    "    ys = np.asarray(ys)\n",
    "\n",
    "    meanx, varx = thinkstats2.MeanVar(xs)\n",
    "    meany, vary = thinkstats2.MeanVar(ys)\n",
    "\n",
    "    corr = Cov(xs, ys, meanx, meany) / np.sqrt(varx * vary)\n",
    "    return corr"
   ]
  },
  {
   "cell_type": "code",
   "execution_count": 89,
   "id": "9b95f258",
   "metadata": {},
   "outputs": [
    {
     "data": {
      "text/plain": [
       "0.2998580664507558"
      ]
     },
     "execution_count": 89,
     "metadata": {},
     "output_type": "execute_result"
    }
   ],
   "source": [
    "# Defense_Budget vs Total_Military_Personnel \n",
    "Corr(Defense_Budget, Total_Military_Personnel )"
   ]
  },
  {
   "cell_type": "code",
   "execution_count": 90,
   "id": "a7df6b09",
   "metadata": {},
   "outputs": [
    {
     "data": {
      "text/plain": [
       "0.4768362153487483"
      ]
     },
     "execution_count": 90,
     "metadata": {},
     "output_type": "execute_result"
    }
   ],
   "source": [
    " # Total_Naval_Assets Vs Total_Aircraft_Strength\n",
    "Corr(Total_Naval_Assets, Total_Aircraft_Strength)"
   ]
  },
  {
   "cell_type": "markdown",
   "id": "58c631d4",
   "metadata": {},
   "source": [
    "Looking at the Pearsons coefficient of correlation we see that there is sligtly positive correlation between Defense_Budget and Total_Military_Personnel and also between Total_Naval_Assets and Total_Aircraft_Strength. "
   ]
  },
  {
   "cell_type": "markdown",
   "id": "ad8588c0",
   "metadata": {},
   "source": [
    "####  Spearman's Correlation"
   ]
  },
  {
   "cell_type": "code",
   "execution_count": 91,
   "id": "75b7cb49",
   "metadata": {},
   "outputs": [],
   "source": [
    "def SpearmanCorr(xs, ys):\n",
    "    xranks = pd.Series(xs).rank()\n",
    "    yranks = pd.Series(ys).rank()\n",
    "    return Corr(xranks, yranks)"
   ]
  },
  {
   "cell_type": "code",
   "execution_count": 92,
   "id": "f2a01f51",
   "metadata": {},
   "outputs": [
    {
     "data": {
      "text/plain": [
       "0.6942071717708785"
      ]
     },
     "execution_count": 92,
     "metadata": {},
     "output_type": "execute_result"
    }
   ],
   "source": [
    "# Defense_Budget vs Total_Military_Personnel \n",
    "SpearmanCorr(Defense_Budget, Total_Military_Personnel )"
   ]
  },
  {
   "cell_type": "code",
   "execution_count": 93,
   "id": "71fb45ca",
   "metadata": {},
   "outputs": [
    {
     "data": {
      "text/plain": [
       "0.7330665081116708"
      ]
     },
     "execution_count": 93,
     "metadata": {},
     "output_type": "execute_result"
    }
   ],
   "source": [
    " # Total_Naval_Assets Vs Total_Aircraft_Strength\n",
    "SpearmanCorr(Total_Naval_Assets, Total_Aircraft_Strength)"
   ]
  },
  {
   "cell_type": "markdown",
   "id": "fce1c2c7",
   "metadata": {},
   "source": [
    "Spearman coefficient shows that there is strong correlation  for this two cases. "
   ]
  },
  {
   "cell_type": "raw",
   "id": "0d07bf9b",
   "metadata": {},
   "source": [
    "Adjusting for Non-Linear Relationships"
   ]
  },
  {
   "cell_type": "code",
   "execution_count": 94,
   "id": "aae0081a",
   "metadata": {},
   "outputs": [
    {
     "data": {
      "text/plain": [
       "0.698860464625414"
      ]
     },
     "execution_count": 94,
     "metadata": {},
     "output_type": "execute_result"
    }
   ],
   "source": [
    "Corr(np.log(Defense_Budget), np.log(Total_Military_Personnel) )"
   ]
  },
  {
   "cell_type": "code",
   "execution_count": 95,
   "id": "4acbd337",
   "metadata": {},
   "outputs": [
    {
     "data": {
      "text/plain": [
       "0.5691681874099528"
      ]
     },
     "execution_count": 95,
     "metadata": {},
     "output_type": "execute_result"
    }
   ],
   "source": [
    "Corr((Total_Naval_Assets),np.log( Total_Aircraft_Strength))"
   ]
  },
  {
   "cell_type": "markdown",
   "id": "6797e579",
   "metadata": {},
   "source": [
    "#### Hypothesis Testing"
   ]
  },
  {
   "cell_type": "markdown",
   "id": "e309b44f",
   "metadata": {},
   "source": [
    "The null hypothesis is that there is no relationship between defense budget and total military personnel for a country"
   ]
  },
  {
   "cell_type": "code",
   "execution_count": 96,
   "id": "2dc0dabe",
   "metadata": {},
   "outputs": [],
   "source": [
    "class CorrelationPermute(thinkstats2.HypothesisTest):\n",
    "    \"\"\"Tests correlations by permutation.\"\"\"\n",
    "\n",
    "    def TestStatistic(self, data):\n",
    "        \"\"\"Computes the test statistic.\n",
    "\n",
    "        data: tuple of xs and ys\n",
    "        \"\"\"\n",
    "        xs, ys = data\n",
    "        test_stat = abs(thinkstats2.Corr(xs, ys))\n",
    "        return test_stat\n",
    "\n",
    "    def RunModel(self):\n",
    "        \"\"\"Run the model of the null hypothesis.\n",
    "\n",
    "        returns: simulated data\n",
    "        \"\"\"\n",
    "        xs, ys = self.data\n",
    "        xs = np.random.permutation(xs)\n",
    "        return xs, ys"
   ]
  },
  {
   "cell_type": "code",
   "execution_count": 97,
   "id": "02c7a93e",
   "metadata": {},
   "outputs": [
    {
     "name": "stdout",
     "output_type": "stream",
     "text": [
      "pvalue:  0.024\n"
     ]
    }
   ],
   "source": [
    "# Running correlation test on data subset\n",
    "corr_data = Total_Military_Personnel, Defense_Budget\n",
    "corr_test = CorrelationPermute(corr_data)\n",
    "pvalue = corr_test.PValue()\n",
    "\n",
    "print ('pvalue: ', pvalue)"
   ]
  },
  {
   "cell_type": "markdown",
   "id": "047e3465",
   "metadata": {},
   "source": [
    "A p-value less than 0.05 (typically ≤ 0.05) is statistically significant. It indicates strong evidence against the null hypothesis, as there is less than a 5% probability the null is correct (and the results are random). Here we have p value equal to 0.03, that means we have strong evidence against the null hypothesis hence there is relationship between the total military personnel and the defense budget."
   ]
  },
  {
   "cell_type": "markdown",
   "id": "697a1f2d",
   "metadata": {},
   "source": [
    "### Regression Analysis"
   ]
  },
  {
   "cell_type": "code",
   "execution_count": 98,
   "id": "eb53a5d7",
   "metadata": {},
   "outputs": [],
   "source": [
    "import statsmodels.formula.api as smf"
   ]
  },
  {
   "cell_type": "code",
   "execution_count": 99,
   "id": "15c11240",
   "metadata": {},
   "outputs": [
    {
     "data": {
      "text/html": [
       "<table class=\"simpletable\">\n",
       "<caption>OLS Regression Results</caption>\n",
       "<tr>\n",
       "  <th>Dep. Variable:</th>     <td>Defense_Budget</td>  <th>  R-squared:         </th> <td>   0.090</td>\n",
       "</tr>\n",
       "<tr>\n",
       "  <th>Model:</th>                   <td>OLS</td>       <th>  Adj. R-squared:    </th> <td>   0.083</td>\n",
       "</tr>\n",
       "<tr>\n",
       "  <th>Method:</th>             <td>Least Squares</td>  <th>  F-statistic:       </th> <td>   12.94</td>\n",
       "</tr>\n",
       "<tr>\n",
       "  <th>Date:</th>             <td>Fri, 04 Mar 2022</td> <th>  Prob (F-statistic):</th> <td>0.000454</td>\n",
       "</tr>\n",
       "<tr>\n",
       "  <th>Time:</th>                 <td>15:45:06</td>     <th>  Log-Likelihood:    </th> <td> -1629.5</td>\n",
       "</tr>\n",
       "<tr>\n",
       "  <th>No. Observations:</th>      <td>   133</td>      <th>  AIC:               </th> <td>   3263.</td>\n",
       "</tr>\n",
       "<tr>\n",
       "  <th>Df Residuals:</th>          <td>   131</td>      <th>  BIC:               </th> <td>   3269.</td>\n",
       "</tr>\n",
       "<tr>\n",
       "  <th>Df Model:</th>              <td>     1</td>      <th>                     </th>     <td> </td>   \n",
       "</tr>\n",
       "<tr>\n",
       "  <th>Covariance Type:</th>      <td>nonrobust</td>    <th>                     </th>     <td> </td>   \n",
       "</tr>\n",
       "</table>\n",
       "<table class=\"simpletable\">\n",
       "<tr>\n",
       "              <td></td>                <th>coef</th>     <th>std err</th>      <th>t</th>      <th>P>|t|</th>  <th>[0.025</th>    <th>0.975]</th>  \n",
       "</tr>\n",
       "<tr>\n",
       "  <th>Intercept</th>                <td> 4778.9312</td> <td> 4811.569</td> <td>    0.993</td> <td> 0.322</td> <td>-4739.499</td> <td> 1.43e+04</td>\n",
       "</tr>\n",
       "<tr>\n",
       "  <th>Total_Military_Personnel</th> <td>    0.0151</td> <td>    0.004</td> <td>    3.598</td> <td> 0.000</td> <td>    0.007</td> <td>    0.023</td>\n",
       "</tr>\n",
       "</table>\n",
       "<table class=\"simpletable\">\n",
       "<tr>\n",
       "  <th>Omnibus:</th>       <td>261.675</td> <th>  Durbin-Watson:     </th> <td>   1.195</td> \n",
       "</tr>\n",
       "<tr>\n",
       "  <th>Prob(Omnibus):</th> <td> 0.000</td>  <th>  Jarque-Bera (JB):  </th> <td>56978.184</td>\n",
       "</tr>\n",
       "<tr>\n",
       "  <th>Skew:</th>          <td> 9.456</td>  <th>  Prob(JB):          </th> <td>    0.00</td> \n",
       "</tr>\n",
       "<tr>\n",
       "  <th>Kurtosis:</th>      <td>102.620</td> <th>  Cond. No.          </th> <td>1.25e+06</td> \n",
       "</tr>\n",
       "</table><br/><br/>Notes:<br/>[1] Standard Errors assume that the covariance matrix of the errors is correctly specified.<br/>[2] The condition number is large, 1.25e+06. This might indicate that there are<br/>strong multicollinearity or other numerical problems."
      ],
      "text/plain": [
       "<class 'statsmodels.iolib.summary.Summary'>\n",
       "\"\"\"\n",
       "                            OLS Regression Results                            \n",
       "==============================================================================\n",
       "Dep. Variable:         Defense_Budget   R-squared:                       0.090\n",
       "Model:                            OLS   Adj. R-squared:                  0.083\n",
       "Method:                 Least Squares   F-statistic:                     12.94\n",
       "Date:                Fri, 04 Mar 2022   Prob (F-statistic):           0.000454\n",
       "Time:                        15:45:06   Log-Likelihood:                -1629.5\n",
       "No. Observations:                 133   AIC:                             3263.\n",
       "Df Residuals:                     131   BIC:                             3269.\n",
       "Df Model:                           1                                         \n",
       "Covariance Type:            nonrobust                                         \n",
       "============================================================================================\n",
       "                               coef    std err          t      P>|t|      [0.025      0.975]\n",
       "--------------------------------------------------------------------------------------------\n",
       "Intercept                 4778.9312   4811.569      0.993      0.322   -4739.499    1.43e+04\n",
       "Total_Military_Personnel     0.0151      0.004      3.598      0.000       0.007       0.023\n",
       "==============================================================================\n",
       "Omnibus:                      261.675   Durbin-Watson:                   1.195\n",
       "Prob(Omnibus):                  0.000   Jarque-Bera (JB):            56978.184\n",
       "Skew:                           9.456   Prob(JB):                         0.00\n",
       "Kurtosis:                     102.620   Cond. No.                     1.25e+06\n",
       "==============================================================================\n",
       "\n",
       "Notes:\n",
       "[1] Standard Errors assume that the covariance matrix of the errors is correctly specified.\n",
       "[2] The condition number is large, 1.25e+06. This might indicate that there are\n",
       "strong multicollinearity or other numerical problems.\n",
       "\"\"\""
      ]
     },
     "execution_count": 99,
     "metadata": {},
     "output_type": "execute_result"
    }
   ],
   "source": [
    "# Simple Linear Regression of defense budget as a function of total military personnel\n",
    "formula = 'Defense_Budget ~ Total_Military_Personnel'\n",
    "model = smf.ols(formula, data=df)\n",
    "results = model.fit()\n",
    "results.summary()"
   ]
  },
  {
   "cell_type": "markdown",
   "id": "dc2a0b02",
   "metadata": {},
   "source": [
    "The higher the R-squared, the better the model fits our data. R square indicate the percentage of the variance in the dependent variable that the independent variables explain collectively. Here we see that R squared value to be 0.09 that means 9% variance is done by total military personnel count  towards the defense budget.\n",
    "\n",
    "This means that military personnel count only count for 9% relation towards the defense budget and we can tell that there are other factors that affects the defense budget like the military combat equipment, maintenance and mission. "
   ]
  }
 ],
 "metadata": {
  "kernelspec": {
   "display_name": "Python 3 (ipykernel)",
   "language": "python",
   "name": "python3"
  },
  "language_info": {
   "codemirror_mode": {
    "name": "ipython",
    "version": 3
   },
   "file_extension": ".py",
   "mimetype": "text/x-python",
   "name": "python",
   "nbconvert_exporter": "python",
   "pygments_lexer": "ipython3",
   "version": "3.9.7"
  }
 },
 "nbformat": 4,
 "nbformat_minor": 5
}
